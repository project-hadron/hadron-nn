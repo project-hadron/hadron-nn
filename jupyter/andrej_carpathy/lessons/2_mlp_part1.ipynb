{
 "cells": [
  {
   "cell_type": "markdown",
   "id": "2005411d-3125-43f3-b055-b97e6b4bfe45",
   "metadata": {},
   "source": [
    "# Building MLP Part 1\n",
    "- Video: [Andrej Karpathy - Building makemore Part 2: MLP](https://www.youtube.com/watch?v=TCH_1BHY58I&t=4076s)\n",
    "- MLP paper: [Bengio et al. 2003 MLP language model paper](https://www.jmlr.org/papers/volume3/bengio03a/bengio03a.pdf)\n"
   ]
  },
  {
   "cell_type": "code",
   "execution_count": 1,
   "id": "efd5caaa-8781-47c8-80b8-50e5c6fcf58b",
   "metadata": {},
   "outputs": [],
   "source": [
    "# core libraries\n",
    "import torch\n",
    "import torch.nn.functional as F\n",
    "\n",
    "import numpy as np\n",
    "import pandas as pd\n",
    "import pyarrow as pa\n",
    "import random\n",
    "import seaborn as sns\n",
    "import matplotlib.pyplot as plt\n",
    "\n",
    "# matpolitlib config\n",
    "%matplotlib inline"
   ]
  },
  {
   "cell_type": "code",
   "execution_count": 2,
   "id": "1450934f-754b-4083-9952-ef082a798d00",
   "metadata": {},
   "outputs": [],
   "source": [
    "words = open('./source/names.txt', 'r').read().splitlines()"
   ]
  },
  {
   "cell_type": "code",
   "execution_count": 3,
   "id": "5a9c695e-b25c-4292-9bae-6d7de085435b",
   "metadata": {},
   "outputs": [],
   "source": [
    "chars = sorted(list(set(''.join(words))))\n",
    "stoi = {s:i+1 for i,s in enumerate(chars)}\n",
    "stoi['.'] = 0\n",
    "itos = {i:s for s,i in stoi.items()}"
   ]
  },
  {
   "cell_type": "code",
   "execution_count": 4,
   "id": "68bdf49e-0bf8-46a9-bab8-eb9c6db7bb2a",
   "metadata": {},
   "outputs": [],
   "source": [
    "# build the dataset\n",
    "block_size = 3 # context length: how many characters do we take to predict the next one?\n",
    "X, Y = [], []\n",
    "for w in words[:5]:\n",
    "  \n",
    "  #print(w)\n",
    "  context = [0] * block_size\n",
    "  for ch in w + '.':\n",
    "    ix = stoi[ch]\n",
    "    X.append(context)\n",
    "    Y.append(ix)\n",
    "    context = context[1:] + [ix] # crop and append\n",
    "  \n",
    "X = torch.tensor(X)\n",
    "Y = torch.tensor(Y)"
   ]
  },
  {
   "cell_type": "code",
   "execution_count": 5,
   "id": "c8a976c0-d201-43f0-b419-d644c6a8dcbc",
   "metadata": {},
   "outputs": [
    {
     "data": {
      "text/plain": [
       "(torch.Size([32, 3]), torch.int64, torch.Size([32]), torch.int64)"
      ]
     },
     "execution_count": 5,
     "metadata": {},
     "output_type": "execute_result"
    }
   ],
   "source": [
    "X.shape, X.dtype, Y.shape, Y.dtype"
   ]
  },
  {
   "cell_type": "code",
   "execution_count": 6,
   "id": "a5c3f939-3ede-4807-9637-b33441a3373d",
   "metadata": {},
   "outputs": [],
   "source": [
    "# initial parameters\n",
    "g = torch.Generator().manual_seed(2147483647) # for reproducibility\n",
    "C = torch.randn((27, 2), generator=g)\n",
    "W1 = torch.randn((6, 100), generator=g)\n",
    "b1 = torch.randn(100, generator=g)\n",
    "W2 = torch.randn((100, 27), generator=g)\n",
    "b2 = torch.randn(27, generator=g)\n",
    "parameters = [C, W1, b1, W2, b2]"
   ]
  },
  {
   "cell_type": "code",
   "execution_count": 7,
   "id": "cb7d28d3-5b3a-4a7e-bf82-78d2beb9b83d",
   "metadata": {},
   "outputs": [
    {
     "data": {
      "text/plain": [
       "tensor(43.8587)"
      ]
     },
     "execution_count": 7,
     "metadata": {},
     "output_type": "execute_result"
    }
   ],
   "source": [
    "emb = C[X] # (32, 3, 2)\n",
    "\n",
    "# view figures 3 * 2 = 6 and -1 is whats left (32)\n",
    "# tanh gives us are values between 0 and 1\n",
    "h = torch.tanh(emb.view(-1, 6)) @ W1 + b1 # (32, 100)\n",
    "\n",
    "# logits\n",
    "logits = h @ W2 + b2 # (32, 27)\n",
    "\n",
    "# softmax\n",
    "counts = logits.exp()\n",
    "prob = counts / counts.sum(1, keepdims=True)\n",
    "\n",
    "# mean negative log liklihood loss\n",
    "loss = -prob[torch.arange(32), Y].log().mean()\n",
    "loss"
   ]
  },
  {
   "cell_type": "code",
   "execution_count": 8,
   "id": "76a4a1f6-c411-4f4d-a5d5-41a1f6694540",
   "metadata": {
    "scrolled": true
   },
   "outputs": [
    {
     "data": {
      "text/plain": [
       "tensor(43.8587)"
      ]
     },
     "execution_count": 8,
     "metadata": {},
     "output_type": "execute_result"
    }
   ],
   "source": [
    "# more efficient using cross_entropy\n",
    "\n",
    "emb = C[X] # (32, 3, 2)\n",
    "\n",
    "# view figures 3 * 2 = 6 and -1 is whats left (32)\n",
    "# tanh gives us are values between 0 and 1\n",
    "h = torch.tanh(emb.view(-1, 6)) @ W1 + b1 # (32, 100)\n",
    "\n",
    "# logits\n",
    "logits = h @ W2 + b2 # (32, 27)\n",
    "\n",
    "# Best practice in Torch removing softmax and log loss liklihood\n",
    "loss = F.cross_entropy(logits, Y)\n",
    "loss"
   ]
  },
  {
   "cell_type": "markdown",
   "id": "35efcbc4-153c-4218-87e9-fb583436765c",
   "metadata": {},
   "source": [
    "## Full neural network"
   ]
  },
  {
   "cell_type": "markdown",
   "id": "5b4cc421-0a5e-4707-965d-ad8d9f39399b",
   "metadata": {},
   "source": [
    "### character encoder decoder"
   ]
  },
  {
   "cell_type": "code",
   "execution_count": 9,
   "id": "6292f004-5a6d-4ff0-8237-778e9f40ed05",
   "metadata": {},
   "outputs": [],
   "source": [
    "chars = sorted(list(set(''.join(words))))\n",
    "stoi = {s:i+1 for i,s in enumerate(chars)}\n",
    "stoi['.'] = 0\n",
    "itos = {i:s for s,i in stoi.items()}"
   ]
  },
  {
   "cell_type": "markdown",
   "id": "a23f8baa-d470-4cc0-bcfd-8eeae861444c",
   "metadata": {},
   "source": [
    "### Build the dataset"
   ]
  },
  {
   "cell_type": "code",
   "execution_count": 10,
   "id": "cb648ee2-2928-4bcd-9deb-16ebcaea521f",
   "metadata": {},
   "outputs": [],
   "source": [
    "block_size = 3 # context length: how many characters do we take to predict the next one?\n",
    "X, Y = [], []\n",
    "for w in words:\n",
    "  \n",
    "  context = [0] * block_size\n",
    "  for ch in w + '.':\n",
    "    ix = stoi[ch]\n",
    "    X.append(context)\n",
    "    Y.append(ix)\n",
    "    context = context[1:] + [ix] # crop and append\n",
    "  \n",
    "X = torch.tensor(X)\n",
    "Y = torch.tensor(Y)"
   ]
  },
  {
   "cell_type": "code",
   "execution_count": 11,
   "id": "f1d67373-e860-4926-bdb0-505207e83dfa",
   "metadata": {},
   "outputs": [
    {
     "data": {
      "text/plain": [
       "(torch.Size([228146, 3]), torch.int64, torch.Size([228146]), torch.int64)"
      ]
     },
     "execution_count": 11,
     "metadata": {},
     "output_type": "execute_result"
    }
   ],
   "source": [
    "X.shape, X.dtype, Y.shape, Y.dtype"
   ]
  },
  {
   "cell_type": "markdown",
   "id": "285f0ff9-e8c6-482d-a5ad-21afacef9226",
   "metadata": {},
   "source": [
    "### Parameters initialisation"
   ]
  },
  {
   "cell_type": "code",
   "execution_count": 12,
   "id": "d25151a8-a419-40e2-b851-ecb384cb186e",
   "metadata": {},
   "outputs": [],
   "source": [
    "# initial parameters\n",
    "g = torch.Generator().manual_seed(2147483647) # for reproducibility\n",
    "C = torch.randn((27, 2), generator=g)\n",
    "W1 = torch.randn((6, 100), generator=g)\n",
    "b1 = torch.randn(100, generator=g)\n",
    "W2 = torch.randn((100, 27), generator=g)\n",
    "b2 = torch.randn(27, generator=g)\n",
    "parameters = [C, W1, b1, W2, b2]"
   ]
  },
  {
   "cell_type": "code",
   "execution_count": 13,
   "id": "b9dae8cc-752d-406f-b223-6bc9907f6462",
   "metadata": {},
   "outputs": [],
   "source": [
    "# must be set in Torch\n",
    "for p in parameters:\n",
    "    p.requires_grad = True"
   ]
  },
  {
   "cell_type": "markdown",
   "id": "e108cfa0-0864-4a8f-8232-2b22fa500b0e",
   "metadata": {},
   "source": [
    "### Optimize Neural Network"
   ]
  },
  {
   "cell_type": "markdown",
   "id": "3565a972-5998-40b9-8f0c-7abe149668f0",
   "metadata": {},
   "source": [
    "#### forward pass"
   ]
  },
  {
   "cell_type": "code",
   "execution_count": 14,
   "id": "099a1cdd-f0bc-4614-8f9c-536be8e531c1",
   "metadata": {},
   "outputs": [],
   "source": [
    "emb = C[X]\n",
    "h = torch.tanh(emb.view(-1, 6)) @ W1 + b1\n",
    "logits = h @ W2 + b2\n",
    "loss = F.cross_entropy(logits, Y)"
   ]
  },
  {
   "cell_type": "markdown",
   "id": "a23ed3be-431d-41e3-8157-aeb7932950b4",
   "metadata": {},
   "source": [
    "#### backward pass"
   ]
  },
  {
   "cell_type": "code",
   "execution_count": 15,
   "id": "c95d68d9-10e0-4a0a-8977-bccbecb07a73",
   "metadata": {},
   "outputs": [],
   "source": [
    "# set the parameter gradients to 0\n",
    "for p in parameters:\n",
    "    p.grad = None # same as setting to 0 but more efficient\n",
    "# populate those gradients\n",
    "loss.backward()"
   ]
  },
  {
   "cell_type": "markdown",
   "id": "233e2a59-3ef0-4b2d-b283-1869aed7b1cc",
   "metadata": {},
   "source": [
    "#### update"
   ]
  },
  {
   "cell_type": "code",
   "execution_count": 16,
   "id": "38485235-568a-498c-b320-c5cc367d0285",
   "metadata": {},
   "outputs": [],
   "source": [
    "# take the parameter data and nudge the gradient by the learning rate\n",
    "for p in parameters:\n",
    "    p.data += -0.1 * p.grad\n"
   ]
  },
  {
   "cell_type": "markdown",
   "id": "ad105f31-e168-470f-843a-4381cbc289d8",
   "metadata": {},
   "source": [
    "### Improve Optimization with loop and batch"
   ]
  },
  {
   "cell_type": "code",
   "execution_count": 17,
   "id": "f6665dd6-7cdf-4a61-b458-4106952dfed3",
   "metadata": {},
   "outputs": [],
   "source": [
    "# initial parameters\n",
    "g = torch.Generator().manual_seed(2147483647) # for reproducibility\n",
    "C = torch.randn((27, 2), generator=g)\n",
    "W1 = torch.randn((6, 100), generator=g)\n",
    "b1 = torch.randn(100, generator=g)\n",
    "W2 = torch.randn((100, 27), generator=g)\n",
    "b2 = torch.randn(27, generator=g)\n",
    "parameters = [C, W1, b1, W2, b2]"
   ]
  },
  {
   "cell_type": "code",
   "execution_count": 18,
   "id": "e9479477-b6fc-4bb5-b6f9-6c11624df17b",
   "metadata": {},
   "outputs": [],
   "source": [
    "# must be set in Torch\n",
    "for p in parameters:\n",
    "    p.requires_grad = True"
   ]
  },
  {
   "cell_type": "code",
   "execution_count": 19,
   "id": "d15c3616-8074-4b39-a2b4-9da70092e027",
   "metadata": {},
   "outputs": [
    {
     "name": "stdout",
     "output_type": "stream",
     "text": [
      "tensor(14.3826, grad_fn=<NllLossBackward0>)\n"
     ]
    }
   ],
   "source": [
    "for _ in range(10):\n",
    "\n",
    "    # autobatch construct\n",
    "    ix = torch.randint(0, X.shape[0], (32,))\n",
    "\n",
    "    # forward\n",
    "    emb = C[X[ix]]\n",
    "    h = torch.tanh(emb.view(-1, 6)) @ W1 + b1\n",
    "    logits = h @ W2 + b2\n",
    "    loss = F.cross_entropy(logits, Y[ix])\n",
    "    \n",
    "    # backward\n",
    "    for p in parameters:\n",
    "        p.grad = None \n",
    "    loss.backward()\n",
    "    \n",
    "    # update\n",
    "    for p in parameters:\n",
    "        p.data += -0.1 * p.grad\n",
    "\n",
    "print(loss)"
   ]
  },
  {
   "cell_type": "markdown",
   "id": "e54b0f93-7e69-4ae4-91e7-8b26f5d692ea",
   "metadata": {},
   "source": [
    "### Check progress without batch for acuracy"
   ]
  },
  {
   "cell_type": "code",
   "execution_count": 20,
   "id": "b85c44d2-949a-4351-8619-6006ee557513",
   "metadata": {},
   "outputs": [
    {
     "data": {
      "text/plain": [
       "tensor(10.4499, grad_fn=<NllLossBackward0>)"
      ]
     },
     "execution_count": 20,
     "metadata": {},
     "output_type": "execute_result"
    }
   ],
   "source": [
    "emb = C[X[ix]]\n",
    "h = torch.tanh(emb.view(-1, 6)) @ W1 + b1\n",
    "logits = h @ W2 + b2\n",
    "loss = F.cross_entropy(logits, Y[ix])\n",
    "loss\n"
   ]
  },
  {
   "cell_type": "markdown",
   "id": "39ab74f4-4d50-47b1-9986-f23a56152f3c",
   "metadata": {},
   "source": [
    "### Optimize the Learning rate\n",
    "even spaced steps are no good so steps need to be exponents.\n",
    "Line space of -3 to 0 gives the exponent of 0 to 1"
   ]
  },
  {
   "cell_type": "code",
   "execution_count": 21,
   "id": "b40d75c3-ba9a-448f-91e2-79c518ae7d6d",
   "metadata": {},
   "outputs": [],
   "source": [
    "# initial parameters\n",
    "g = torch.Generator().manual_seed(2147483647) # for reproducibility\n",
    "C = torch.randn((27, 2), generator=g)\n",
    "W1 = torch.randn((6, 100), generator=g)\n",
    "b1 = torch.randn(100, generator=g)\n",
    "W2 = torch.randn((100, 27), generator=g)\n",
    "b2 = torch.randn(27, generator=g)\n",
    "parameters = [C, W1, b1, W2, b2]"
   ]
  },
  {
   "cell_type": "code",
   "execution_count": 22,
   "id": "e0813c72-f86d-4b55-a2ac-983d10ab9105",
   "metadata": {},
   "outputs": [],
   "source": [
    "# must be set in Torch\n",
    "for p in parameters:\n",
    "    p.requires_grad = True"
   ]
  },
  {
   "cell_type": "code",
   "execution_count": 23,
   "id": "c0c4be13-9af3-4062-be27-5e870bd53448",
   "metadata": {},
   "outputs": [],
   "source": [
    "# learning rate exponent\n",
    "lre = torch.linspace(-3, 0, 1000)\n",
    "lrs = 10**lre"
   ]
  },
  {
   "cell_type": "code",
   "execution_count": 24,
   "id": "3a3f2160-62ef-4e9c-885c-4ee092037622",
   "metadata": {},
   "outputs": [],
   "source": [
    "lri = []\n",
    "lossi = []\n",
    "stepi = []"
   ]
  },
  {
   "cell_type": "code",
   "execution_count": 25,
   "id": "5b3b0b64-933e-4ee2-9c76-15bcfa7a0047",
   "metadata": {},
   "outputs": [],
   "source": [
    "for i in range(1000):\n",
    "\n",
    "    # autobatch construct\n",
    "    ix = torch.randint(0, X.shape[0], (32,))\n",
    "\n",
    "    # forward\n",
    "    emb = C[X[ix]]\n",
    "    h = torch.tanh(emb.view(-1, 6)) @ W1 + b1\n",
    "    logits = h @ W2 + b2\n",
    "    loss = F.cross_entropy(logits, Y[ix])\n",
    "    \n",
    "    # backward\n",
    "    for p in parameters:\n",
    "        p.grad = None \n",
    "    loss.backward()\n",
    "    \n",
    "    # update\n",
    "    lr = lrs[i]\n",
    "    for p in parameters:\n",
    "        p.data += -lr * p.grad\n",
    "\n",
    "    # lri.append(lr) # save the learning rate\n",
    "    lri.append(lre[i]) # save the learning rate exponent\n",
    "    lossi.append(loss.item())\n",
    "\n"
   ]
  },
  {
   "cell_type": "code",
   "execution_count": 26,
   "id": "a8986031-3423-4918-afc9-0eda06578aea",
   "metadata": {},
   "outputs": [
    {
     "data": {
      "text/plain": [
       "[<matplotlib.lines.Line2D at 0x7f9109d96a40>]"
      ]
     },
     "execution_count": 26,
     "metadata": {},
     "output_type": "execute_result"
    },
    {
     "data": {
      "image/png": "[encoded data removed]",
      "text/plain": [
       "<Figure size 640x480 with 1 Axes>"
      ]
     },
     "metadata": {},
     "output_type": "display_data"
    }
   ],
   "source": [
    "plt.plot(lri, lossi)"
   ]
  },
  {
   "cell_type": "markdown",
   "id": "73d3763d-ed26-4241-b190-39697d4a3d33",
   "metadata": {},
   "source": [
    "set the learning rate to the value of the exponent of -1 ($10^{-1}$)"
   ]
  },
  {
   "cell_type": "markdown",
   "id": "e4587f66-df5f-4fe0-8795-7e782affd194",
   "metadata": {},
   "source": [
    "Then finish on a learning rate decay which is generally $ 10^x $ lower. In our case 0.01"
   ]
  },
  {
   "cell_type": "markdown",
   "id": "f69a48ea-7d1c-4771-9135-10fd644d910a",
   "metadata": {},
   "source": [
    "## Results"
   ]
  },
  {
   "cell_type": "code",
   "execution_count": null,
   "id": "1e5ca994-b0a3-4c03-b04d-292304daa006",
   "metadata": {},
   "outputs": [],
   "source": []
  }
 ],
 "metadata": {
  "kernelspec": {
   "display_name": "Python 3 (ipykernel)",
   "language": "python",
   "name": "python3"
  },
  "language_info": {
   "codemirror_mode": {
    "name": "ipython",
    "version": 3
   },
   "file_extension": ".py",
   "mimetype": "text/x-python",
   "name": "python",
   "nbconvert_exporter": "python",
   "pygments_lexer": "ipython3",
   "version": "3.10.12"
  }
 },
 "nbformat": 4,
 "nbformat_minor": 5
}
